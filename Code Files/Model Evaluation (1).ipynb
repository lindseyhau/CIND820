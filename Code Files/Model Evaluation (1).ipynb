{
 "cells": [
  {
   "cell_type": "code",
   "execution_count": 20,
   "id": "5d0cb472",
   "metadata": {},
   "outputs": [],
   "source": [
    "import numpy as np\n",
    "import pandas as pd \n",
    "import matplotlib.pyplot as plt\n",
    "import seaborn as sns"
   ]
  },
  {
   "cell_type": "code",
   "execution_count": 2,
   "id": "a890a838",
   "metadata": {},
   "outputs": [],
   "source": [
    "# Load cleaned combined data\n",
    "train = pd.read_csv(r\"C:\\Users\\on3_a\\Documents\\Data Analytics, Big Data & Predictive Analytics/Data/bikeshare_weather.csv\")\n",
    "train.drop(['Unnamed: 0'], axis=1, inplace=True)"
   ]
  },
  {
   "cell_type": "code",
   "execution_count": 3,
   "id": "b1977641",
   "metadata": {},
   "outputs": [
    {
     "name": "stdout",
     "output_type": "stream",
     "text": [
      "<class 'pandas.core.frame.DataFrame'>\n",
      "RangeIndex: 8722 entries, 0 to 8721\n",
      "Data columns (total 21 columns):\n",
      " #   Column               Non-Null Count  Dtype  \n",
      "---  ------               --------------  -----  \n",
      " 0   date                 8722 non-null   object \n",
      " 1   trips                8722 non-null   int64  \n",
      " 2   Temp (°C)            8722 non-null   float64\n",
      " 3   Dew Point Temp (°C)  8722 non-null   float64\n",
      " 4   Rel Hum (%)          8722 non-null   float64\n",
      " 5   Visibility (km)      8722 non-null   float64\n",
      " 6   Stn Press (kPa)      8722 non-null   float64\n",
      " 7   Hmdx                 8722 non-null   float64\n",
      " 8   Wind Chill           8722 non-null   float64\n",
      " 9   Strong Wind          8722 non-null   int64  \n",
      " 10  Fog                  8722 non-null   int64  \n",
      " 11  Freezing Rain        8722 non-null   int64  \n",
      " 12  Haze                 8722 non-null   int64  \n",
      " 13  Heavy Rain           8722 non-null   int64  \n",
      " 14  Moderate Rain        8722 non-null   int64  \n",
      " 15  Moderate Snow        8722 non-null   int64  \n",
      " 16  Rain                 8722 non-null   int64  \n",
      " 17  Snow                 8722 non-null   int64  \n",
      " 18  Thunderstorms        8722 non-null   int64  \n",
      " 19  Weekend              8722 non-null   int64  \n",
      " 20  Holiday              8722 non-null   int64  \n",
      "dtypes: float64(7), int64(13), object(1)\n",
      "memory usage: 1.4+ MB\n"
     ]
    }
   ],
   "source": [
    "train.info()"
   ]
  },
  {
   "cell_type": "code",
   "execution_count": 4,
   "id": "94d5ca26",
   "metadata": {},
   "outputs": [
    {
     "data": {
      "text/html": [
       "<div>\n",
       "<style scoped>\n",
       "    .dataframe tbody tr th:only-of-type {\n",
       "        vertical-align: middle;\n",
       "    }\n",
       "\n",
       "    .dataframe tbody tr th {\n",
       "        vertical-align: top;\n",
       "    }\n",
       "\n",
       "    .dataframe thead th {\n",
       "        text-align: right;\n",
       "    }\n",
       "</style>\n",
       "<table border=\"1\" class=\"dataframe\">\n",
       "  <thead>\n",
       "    <tr style=\"text-align: right;\">\n",
       "      <th></th>\n",
       "      <th>date</th>\n",
       "      <th>trips</th>\n",
       "      <th>Temp (°C)</th>\n",
       "      <th>Dew Point Temp (°C)</th>\n",
       "      <th>Rel Hum (%)</th>\n",
       "      <th>Visibility (km)</th>\n",
       "      <th>Stn Press (kPa)</th>\n",
       "      <th>Hmdx</th>\n",
       "      <th>Wind Chill</th>\n",
       "      <th>Strong Wind</th>\n",
       "      <th>...</th>\n",
       "      <th>Freezing Rain</th>\n",
       "      <th>Haze</th>\n",
       "      <th>Heavy Rain</th>\n",
       "      <th>Moderate Rain</th>\n",
       "      <th>Moderate Snow</th>\n",
       "      <th>Rain</th>\n",
       "      <th>Snow</th>\n",
       "      <th>Thunderstorms</th>\n",
       "      <th>Weekend</th>\n",
       "      <th>Holiday</th>\n",
       "    </tr>\n",
       "  </thead>\n",
       "  <tbody>\n",
       "    <tr>\n",
       "      <th>0</th>\n",
       "      <td>2018-01-01 00:00:00</td>\n",
       "      <td>4</td>\n",
       "      <td>-16.2</td>\n",
       "      <td>-20.5</td>\n",
       "      <td>70.0</td>\n",
       "      <td>16.1</td>\n",
       "      <td>102.13</td>\n",
       "      <td>0.0</td>\n",
       "      <td>-22.0</td>\n",
       "      <td>0</td>\n",
       "      <td>...</td>\n",
       "      <td>0</td>\n",
       "      <td>0</td>\n",
       "      <td>0</td>\n",
       "      <td>0</td>\n",
       "      <td>0</td>\n",
       "      <td>0</td>\n",
       "      <td>0</td>\n",
       "      <td>0</td>\n",
       "      <td>0</td>\n",
       "      <td>1</td>\n",
       "    </tr>\n",
       "    <tr>\n",
       "      <th>1</th>\n",
       "      <td>2018-01-01 01:00:00</td>\n",
       "      <td>10</td>\n",
       "      <td>-16.8</td>\n",
       "      <td>-21.1</td>\n",
       "      <td>70.0</td>\n",
       "      <td>16.1</td>\n",
       "      <td>102.10</td>\n",
       "      <td>0.0</td>\n",
       "      <td>-20.0</td>\n",
       "      <td>0</td>\n",
       "      <td>...</td>\n",
       "      <td>0</td>\n",
       "      <td>0</td>\n",
       "      <td>0</td>\n",
       "      <td>0</td>\n",
       "      <td>0</td>\n",
       "      <td>0</td>\n",
       "      <td>0</td>\n",
       "      <td>0</td>\n",
       "      <td>0</td>\n",
       "      <td>1</td>\n",
       "    </tr>\n",
       "    <tr>\n",
       "      <th>2</th>\n",
       "      <td>2018-01-01 02:00:00</td>\n",
       "      <td>6</td>\n",
       "      <td>-17.3</td>\n",
       "      <td>-20.8</td>\n",
       "      <td>75.0</td>\n",
       "      <td>16.1</td>\n",
       "      <td>102.15</td>\n",
       "      <td>0.0</td>\n",
       "      <td>-26.0</td>\n",
       "      <td>0</td>\n",
       "      <td>...</td>\n",
       "      <td>0</td>\n",
       "      <td>0</td>\n",
       "      <td>0</td>\n",
       "      <td>0</td>\n",
       "      <td>0</td>\n",
       "      <td>0</td>\n",
       "      <td>0</td>\n",
       "      <td>0</td>\n",
       "      <td>0</td>\n",
       "      <td>1</td>\n",
       "    </tr>\n",
       "    <tr>\n",
       "      <th>3</th>\n",
       "      <td>2018-01-01 03:00:00</td>\n",
       "      <td>14</td>\n",
       "      <td>-17.9</td>\n",
       "      <td>-21.6</td>\n",
       "      <td>73.0</td>\n",
       "      <td>16.1</td>\n",
       "      <td>102.13</td>\n",
       "      <td>0.0</td>\n",
       "      <td>-24.0</td>\n",
       "      <td>0</td>\n",
       "      <td>...</td>\n",
       "      <td>0</td>\n",
       "      <td>0</td>\n",
       "      <td>0</td>\n",
       "      <td>0</td>\n",
       "      <td>0</td>\n",
       "      <td>0</td>\n",
       "      <td>0</td>\n",
       "      <td>0</td>\n",
       "      <td>0</td>\n",
       "      <td>1</td>\n",
       "    </tr>\n",
       "    <tr>\n",
       "      <th>4</th>\n",
       "      <td>2018-01-01 04:00:00</td>\n",
       "      <td>6</td>\n",
       "      <td>-17.2</td>\n",
       "      <td>-21.1</td>\n",
       "      <td>72.0</td>\n",
       "      <td>16.1</td>\n",
       "      <td>102.09</td>\n",
       "      <td>0.0</td>\n",
       "      <td>-21.0</td>\n",
       "      <td>0</td>\n",
       "      <td>...</td>\n",
       "      <td>0</td>\n",
       "      <td>0</td>\n",
       "      <td>0</td>\n",
       "      <td>0</td>\n",
       "      <td>0</td>\n",
       "      <td>0</td>\n",
       "      <td>0</td>\n",
       "      <td>0</td>\n",
       "      <td>0</td>\n",
       "      <td>1</td>\n",
       "    </tr>\n",
       "  </tbody>\n",
       "</table>\n",
       "<p>5 rows × 21 columns</p>\n",
       "</div>"
      ],
      "text/plain": [
       "                  date  trips  Temp (°C)  Dew Point Temp (°C)  Rel Hum (%)  \\\n",
       "0  2018-01-01 00:00:00      4      -16.2                -20.5         70.0   \n",
       "1  2018-01-01 01:00:00     10      -16.8                -21.1         70.0   \n",
       "2  2018-01-01 02:00:00      6      -17.3                -20.8         75.0   \n",
       "3  2018-01-01 03:00:00     14      -17.9                -21.6         73.0   \n",
       "4  2018-01-01 04:00:00      6      -17.2                -21.1         72.0   \n",
       "\n",
       "   Visibility (km)  Stn Press (kPa)  Hmdx  Wind Chill  Strong Wind  ...  \\\n",
       "0             16.1           102.13   0.0       -22.0            0  ...   \n",
       "1             16.1           102.10   0.0       -20.0            0  ...   \n",
       "2             16.1           102.15   0.0       -26.0            0  ...   \n",
       "3             16.1           102.13   0.0       -24.0            0  ...   \n",
       "4             16.1           102.09   0.0       -21.0            0  ...   \n",
       "\n",
       "   Freezing Rain  Haze  Heavy Rain  Moderate Rain  Moderate Snow  Rain  Snow  \\\n",
       "0              0     0           0              0              0     0     0   \n",
       "1              0     0           0              0              0     0     0   \n",
       "2              0     0           0              0              0     0     0   \n",
       "3              0     0           0              0              0     0     0   \n",
       "4              0     0           0              0              0     0     0   \n",
       "\n",
       "   Thunderstorms  Weekend  Holiday  \n",
       "0              0        0        1  \n",
       "1              0        0        1  \n",
       "2              0        0        1  \n",
       "3              0        0        1  \n",
       "4              0        0        1  \n",
       "\n",
       "[5 rows x 21 columns]"
      ]
     },
     "execution_count": 4,
     "metadata": {},
     "output_type": "execute_result"
    }
   ],
   "source": [
    "train.head()"
   ]
  },
  {
   "cell_type": "code",
   "execution_count": 5,
   "id": "a15feb52",
   "metadata": {},
   "outputs": [],
   "source": [
    "# Scale numeric features\n",
    "from sklearn.preprocessing import MinMaxScaler\n",
    "scaler = MinMaxScaler()"
   ]
  },
  {
   "cell_type": "code",
   "execution_count": 6,
   "id": "0ada01a2",
   "metadata": {},
   "outputs": [
    {
     "data": {
      "text/plain": [
       "Index(['date', 'trips', 'Temp (°C)', 'Dew Point Temp (°C)', 'Rel Hum (%)',\n",
       "       'Visibility (km)', 'Stn Press (kPa)', 'Hmdx', 'Wind Chill',\n",
       "       'Strong Wind', 'Fog', 'Freezing Rain', 'Haze', 'Heavy Rain',\n",
       "       'Moderate Rain', 'Moderate Snow', 'Rain', 'Snow', 'Thunderstorms',\n",
       "       'Weekend', 'Holiday'],\n",
       "      dtype='object')"
      ]
     },
     "execution_count": 6,
     "metadata": {},
     "output_type": "execute_result"
    }
   ],
   "source": [
    "train.columns"
   ]
  },
  {
   "cell_type": "code",
   "execution_count": 7,
   "id": "f59f4ba1",
   "metadata": {},
   "outputs": [],
   "source": [
    "num_vars = ['Temp (°C)', 'Dew Point Temp (°C)', 'Rel Hum (%)', \n",
    "            'Visibility (km)', 'Stn Press (kPa)', 'Hmdx', 'Wind Chill']\n",
    "\n",
    "train[num_vars] = scaler.fit_transform(train[num_vars])"
   ]
  },
  {
   "cell_type": "code",
   "execution_count": 8,
   "id": "51606b0b",
   "metadata": {},
   "outputs": [
    {
     "data": {
      "text/html": [
       "<div>\n",
       "<style scoped>\n",
       "    .dataframe tbody tr th:only-of-type {\n",
       "        vertical-align: middle;\n",
       "    }\n",
       "\n",
       "    .dataframe tbody tr th {\n",
       "        vertical-align: top;\n",
       "    }\n",
       "\n",
       "    .dataframe thead th {\n",
       "        text-align: right;\n",
       "    }\n",
       "</style>\n",
       "<table border=\"1\" class=\"dataframe\">\n",
       "  <thead>\n",
       "    <tr style=\"text-align: right;\">\n",
       "      <th></th>\n",
       "      <th>date</th>\n",
       "      <th>trips</th>\n",
       "      <th>Temp (°C)</th>\n",
       "      <th>Dew Point Temp (°C)</th>\n",
       "      <th>Rel Hum (%)</th>\n",
       "      <th>Visibility (km)</th>\n",
       "      <th>Stn Press (kPa)</th>\n",
       "      <th>Hmdx</th>\n",
       "      <th>Wind Chill</th>\n",
       "      <th>Strong Wind</th>\n",
       "      <th>...</th>\n",
       "      <th>Freezing Rain</th>\n",
       "      <th>Haze</th>\n",
       "      <th>Heavy Rain</th>\n",
       "      <th>Moderate Rain</th>\n",
       "      <th>Moderate Snow</th>\n",
       "      <th>Rain</th>\n",
       "      <th>Snow</th>\n",
       "      <th>Thunderstorms</th>\n",
       "      <th>Weekend</th>\n",
       "      <th>Holiday</th>\n",
       "    </tr>\n",
       "  </thead>\n",
       "  <tbody>\n",
       "    <tr>\n",
       "      <th>0</th>\n",
       "      <td>2018-01-01 00:00:00</td>\n",
       "      <td>4</td>\n",
       "      <td>0.107750</td>\n",
       "      <td>0.139847</td>\n",
       "      <td>0.638554</td>\n",
       "      <td>1.0</td>\n",
       "      <td>0.748614</td>\n",
       "      <td>0.0</td>\n",
       "      <td>0.31250</td>\n",
       "      <td>0</td>\n",
       "      <td>...</td>\n",
       "      <td>0</td>\n",
       "      <td>0</td>\n",
       "      <td>0</td>\n",
       "      <td>0</td>\n",
       "      <td>0</td>\n",
       "      <td>0</td>\n",
       "      <td>0</td>\n",
       "      <td>0</td>\n",
       "      <td>0</td>\n",
       "      <td>1</td>\n",
       "    </tr>\n",
       "    <tr>\n",
       "      <th>1</th>\n",
       "      <td>2018-01-01 01:00:00</td>\n",
       "      <td>10</td>\n",
       "      <td>0.096408</td>\n",
       "      <td>0.128352</td>\n",
       "      <td>0.638554</td>\n",
       "      <td>1.0</td>\n",
       "      <td>0.743068</td>\n",
       "      <td>0.0</td>\n",
       "      <td>0.37500</td>\n",
       "      <td>0</td>\n",
       "      <td>...</td>\n",
       "      <td>0</td>\n",
       "      <td>0</td>\n",
       "      <td>0</td>\n",
       "      <td>0</td>\n",
       "      <td>0</td>\n",
       "      <td>0</td>\n",
       "      <td>0</td>\n",
       "      <td>0</td>\n",
       "      <td>0</td>\n",
       "      <td>1</td>\n",
       "    </tr>\n",
       "    <tr>\n",
       "      <th>2</th>\n",
       "      <td>2018-01-01 02:00:00</td>\n",
       "      <td>6</td>\n",
       "      <td>0.086957</td>\n",
       "      <td>0.134100</td>\n",
       "      <td>0.698795</td>\n",
       "      <td>1.0</td>\n",
       "      <td>0.752311</td>\n",
       "      <td>0.0</td>\n",
       "      <td>0.18750</td>\n",
       "      <td>0</td>\n",
       "      <td>...</td>\n",
       "      <td>0</td>\n",
       "      <td>0</td>\n",
       "      <td>0</td>\n",
       "      <td>0</td>\n",
       "      <td>0</td>\n",
       "      <td>0</td>\n",
       "      <td>0</td>\n",
       "      <td>0</td>\n",
       "      <td>0</td>\n",
       "      <td>1</td>\n",
       "    </tr>\n",
       "    <tr>\n",
       "      <th>3</th>\n",
       "      <td>2018-01-01 03:00:00</td>\n",
       "      <td>14</td>\n",
       "      <td>0.075614</td>\n",
       "      <td>0.118774</td>\n",
       "      <td>0.674699</td>\n",
       "      <td>1.0</td>\n",
       "      <td>0.748614</td>\n",
       "      <td>0.0</td>\n",
       "      <td>0.25000</td>\n",
       "      <td>0</td>\n",
       "      <td>...</td>\n",
       "      <td>0</td>\n",
       "      <td>0</td>\n",
       "      <td>0</td>\n",
       "      <td>0</td>\n",
       "      <td>0</td>\n",
       "      <td>0</td>\n",
       "      <td>0</td>\n",
       "      <td>0</td>\n",
       "      <td>0</td>\n",
       "      <td>1</td>\n",
       "    </tr>\n",
       "    <tr>\n",
       "      <th>4</th>\n",
       "      <td>2018-01-01 04:00:00</td>\n",
       "      <td>6</td>\n",
       "      <td>0.088847</td>\n",
       "      <td>0.128352</td>\n",
       "      <td>0.662651</td>\n",
       "      <td>1.0</td>\n",
       "      <td>0.741220</td>\n",
       "      <td>0.0</td>\n",
       "      <td>0.34375</td>\n",
       "      <td>0</td>\n",
       "      <td>...</td>\n",
       "      <td>0</td>\n",
       "      <td>0</td>\n",
       "      <td>0</td>\n",
       "      <td>0</td>\n",
       "      <td>0</td>\n",
       "      <td>0</td>\n",
       "      <td>0</td>\n",
       "      <td>0</td>\n",
       "      <td>0</td>\n",
       "      <td>1</td>\n",
       "    </tr>\n",
       "  </tbody>\n",
       "</table>\n",
       "<p>5 rows × 21 columns</p>\n",
       "</div>"
      ],
      "text/plain": [
       "                  date  trips  Temp (°C)  Dew Point Temp (°C)  Rel Hum (%)  \\\n",
       "0  2018-01-01 00:00:00      4   0.107750             0.139847     0.638554   \n",
       "1  2018-01-01 01:00:00     10   0.096408             0.128352     0.638554   \n",
       "2  2018-01-01 02:00:00      6   0.086957             0.134100     0.698795   \n",
       "3  2018-01-01 03:00:00     14   0.075614             0.118774     0.674699   \n",
       "4  2018-01-01 04:00:00      6   0.088847             0.128352     0.662651   \n",
       "\n",
       "   Visibility (km)  Stn Press (kPa)  Hmdx  Wind Chill  Strong Wind  ...  \\\n",
       "0              1.0         0.748614   0.0     0.31250            0  ...   \n",
       "1              1.0         0.743068   0.0     0.37500            0  ...   \n",
       "2              1.0         0.752311   0.0     0.18750            0  ...   \n",
       "3              1.0         0.748614   0.0     0.25000            0  ...   \n",
       "4              1.0         0.741220   0.0     0.34375            0  ...   \n",
       "\n",
       "   Freezing Rain  Haze  Heavy Rain  Moderate Rain  Moderate Snow  Rain  Snow  \\\n",
       "0              0     0           0              0              0     0     0   \n",
       "1              0     0           0              0              0     0     0   \n",
       "2              0     0           0              0              0     0     0   \n",
       "3              0     0           0              0              0     0     0   \n",
       "4              0     0           0              0              0     0     0   \n",
       "\n",
       "   Thunderstorms  Weekend  Holiday  \n",
       "0              0        0        1  \n",
       "1              0        0        1  \n",
       "2              0        0        1  \n",
       "3              0        0        1  \n",
       "4              0        0        1  \n",
       "\n",
       "[5 rows x 21 columns]"
      ]
     },
     "execution_count": 8,
     "metadata": {},
     "output_type": "execute_result"
    }
   ],
   "source": [
    "train.head()"
   ]
  },
  {
   "cell_type": "code",
   "execution_count": 9,
   "id": "775c8c16",
   "metadata": {},
   "outputs": [],
   "source": [
    "X,y =train[['Temp (°C)', 'Dew Point Temp (°C)', 'Rel Hum (%)',\n",
    "       'Visibility (km)', 'Stn Press (kPa)', 'Hmdx', 'Wind Chill',\n",
    "       'Strong Wind', 'Fog', 'Freezing Rain', 'Haze', 'Heavy Rain',\n",
    "       'Moderate Rain', 'Moderate Snow', 'Rain', 'Snow', 'Thunderstorms',\n",
    "       'Weekend', 'Holiday']].values,train['trips'].values"
   ]
  },
  {
   "cell_type": "code",
   "execution_count": 10,
   "id": "d983ffa1",
   "metadata": {},
   "outputs": [],
   "source": [
    "from sklearn.model_selection import train_test_split"
   ]
  },
  {
   "cell_type": "code",
   "execution_count": 11,
   "id": "6e879dd9",
   "metadata": {},
   "outputs": [
    {
     "name": "stdout",
     "output_type": "stream",
     "text": [
      "Training Set: 6105 rows\n",
      "Test Set: 2617 rows\n"
     ]
    }
   ],
   "source": [
    "X_train,X_test,y_train,y_test = train_test_split(X,y,test_size=0.30,random_state=0)\n",
    "print ('Training Set: %d rows\\nTest Set: %d rows' % (X_train.shape[0], X_test.shape[0]))"
   ]
  },
  {
   "cell_type": "markdown",
   "id": "e04cbf55",
   "metadata": {},
   "source": [
    "## Linear Regression Model (First Trial)"
   ]
  },
  {
   "cell_type": "code",
   "execution_count": 12,
   "id": "c289e23e",
   "metadata": {},
   "outputs": [],
   "source": [
    "from sklearn.linear_model import LinearRegression "
   ]
  },
  {
   "cell_type": "code",
   "execution_count": 13,
   "id": "ee4aceea",
   "metadata": {},
   "outputs": [
    {
     "name": "stdout",
     "output_type": "stream",
     "text": [
      "LinearRegression()\n"
     ]
    }
   ],
   "source": [
    "model = LinearRegression().fit(X_train,y_train)\n",
    "print(model)"
   ]
  },
  {
   "cell_type": "code",
   "execution_count": 15,
   "id": "01eb6816",
   "metadata": {},
   "outputs": [
    {
     "name": "stdout",
     "output_type": "stream",
     "text": [
      "Predicted Trips:  [108. 191. 196. 133. 104.  70. 132. 129. 513. 534.]\n",
      "Actual Trips:  [  4 163 158  75   3 112 112 165 640 394]\n"
     ]
    }
   ],
   "source": [
    "prediction = model.predict(X_test)\n",
    "print('Predicted Trips: ' , np.round(prediction)[:10] )\n",
    "print('Actual Trips: ' , y_test[:10])"
   ]
  },
  {
   "cell_type": "code",
   "execution_count": 18,
   "id": "997d87d4",
   "metadata": {},
   "outputs": [
    {
     "data": {
      "image/png": "[encoded data removed]",
      "text/plain": [
       "<Figure size 432x288 with 1 Axes>"
      ]
     },
     "metadata": {
      "needs_background": "light"
     },
     "output_type": "display_data"
    }
   ],
   "source": [
    "%matplotlib inline\n",
    "plt.scatter(y_test,prediction)\n",
    "plt.xlabel('Actual Labels')\n",
    "plt.ylabel('Predicted Labels')\n",
    "plt.title('Daily Bike Share Predictions')\n",
    "\n",
    "z = np.polyfit(y_test, prediction, 1)\n",
    "p = np.poly1d(z)\n",
    "plt.plot(y_test,p(y_test), color='magenta')\n",
    "plt.show()"
   ]
  },
  {
   "cell_type": "code",
   "execution_count": 21,
   "id": "b56db676",
   "metadata": {},
   "outputs": [
    {
     "name": "stderr",
     "output_type": "stream",
     "text": [
      "C:\\Users\\on3_a\\anaconda3\\lib\\site-packages\\seaborn\\_decorators.py:36: FutureWarning: Pass the following variables as keyword args: x, y. From version 0.12, the only valid positional argument will be `data`, and passing other arguments without an explicit keyword will result in an error or misinterpretation.\n",
      "  warnings.warn(\n"
     ]
    },
    {
     "data": {
      "image/png": "[encoded data removed]",
      "text/plain": [
       "<Figure size 432x288 with 1 Axes>"
      ]
     },
     "metadata": {
      "needs_background": "light"
     },
     "output_type": "display_data"
    }
   ],
   "source": [
    "sns.scatterplot(y_test,prediction)\n",
    "plt.xlabel('Actual Labels')\n",
    "plt.ylabel('Predicted Labels')\n",
    "plt.title('Daily Bike Share Predictions')\n",
    "\n",
    "z=np.polyfit(y_test,prediction,1)\n",
    "p=np.poly1d(z)\n",
    "plt.plot(y_test,p(y_test), color='magenta')\n",
    "plt.show()"
   ]
  },
  {
   "cell_type": "code",
   "execution_count": 22,
   "id": "2561cc68",
   "metadata": {},
   "outputs": [
    {
     "name": "stdout",
     "output_type": "stream",
     "text": [
      "MSE: 42475.49736918141\n",
      "RMSE: 206.09584510411997\n",
      "R2: 0.3469325164824518\n"
     ]
    }
   ],
   "source": [
    "from sklearn.metrics import mean_squared_error, r2_score\n",
    "\n",
    "mse=mean_squared_error(y_test,prediction)\n",
    "print(\"MSE:\", mse)\n",
    "\n",
    "rmse = np.sqrt(mse)\n",
    "print(\"RMSE:\", rmse)\n",
    "\n",
    "r2 = r2_score(y_test, prediction)\n",
    "print(\"R2:\", r2)"
   ]
  }
 ],
 "metadata": {
  "kernelspec": {
   "display_name": "Python 3 (ipykernel)",
   "language": "python",
   "name": "python3"
  },
  "language_info": {
   "codemirror_mode": {
    "name": "ipython",
    "version": 3
   },
   "file_extension": ".py",
   "mimetype": "text/x-python",
   "name": "python",
   "nbconvert_exporter": "python",
   "pygments_lexer": "ipython3",
   "version": "3.9.7"
  }
 },
 "nbformat": 4,
 "nbformat_minor": 5
}
